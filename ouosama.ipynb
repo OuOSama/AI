{
  "nbformat": 4,
  "nbformat_minor": 0,
  "metadata": {
    "colab": {
      "provenance": [],
      "gpuType": "T4",
      "mount_file_id": "1DiR8EpRlTp9ZCPJHtTr92UrSnS9NOoFP",
      "authorship_tag": "ABX9TyMyYEhqOTGY9imwx35Gd+GY"
    },
    "kernelspec": {
      "name": "python3",
      "display_name": "Python 3"
    },
    "language_info": {
      "name": "python"
    },
    "accelerator": "GPU"
  },
  "cells": [
    {
      "cell_type": "code",
      "source": [
        "print('Hello OuOSama')"
      ],
      "metadata": {
        "id": "NuaF_qvllY_I",
        "outputId": "ddf25e9e-a3f1-4bb0-8772-b20529d82369",
        "colab": {
          "base_uri": "https://localhost:8080/"
        }
      },
      "execution_count": 20,
      "outputs": [
        {
          "output_type": "stream",
          "name": "stdout",
          "text": [
            "Hello OuOSama\n"
          ]
        }
      ]
    }
  ]
}